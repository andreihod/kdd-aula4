{
 "cells": [
  {
   "cell_type": "markdown",
   "metadata": {},
   "source": [
    "# Tecnologias para Desenvolvimento de Big Data \n",
    "# Aula 03\n",
    "# Grupo: Andrei, Daniel e João\n",
    "\n",
    "## Base de dados\n",
    "\n",
    "### Homicide Reports, 1980-2014\n",
    "*Can you develop an algorithm to detect serial killer activity?*\n",
    "\n",
    "https://www.kaggle.com/murderaccountability/homicide-reports\n",
    "\n",
    "##### Contexto\n",
    "Este conjunto de dados com relatório de homicídios do FBI e das solicitação de acesso à informação (FOIA) no período de 1980 a 2014.\n",
    "A Lei de Acesso à Informação (FOIA - 5 U.S.C. § 552), é uma lei federal de liberdade de informação que permite a divulgação total ou parcial de informações e documentos inéditos anteriormente controlados pelo governo dos Estados Unidos.\n",
    "\n",
    "##### Conteúdo\n",
    "Os conjuntos de dados consistem em várias variáveis com informações sobre os crimes. São 24 colunas, desxcritas abaixo.\n",
    "\n",
    "- Record ID: Chave artificial (a ser removida?). Tipo numérico.\n",
    "- Agency Code: Código da agência. Tipo texto.\n",
    "- Agency Name: Nome da Agência. Tipo texto.\n",
    "- Agency Type: Tipo de agência. Tipo texto.\n",
    "- City: Cidade da ocorrência. Tipo texto.\n",
    "- State: Estado. Tipo texto.\n",
    "- Year: Ano de ocorrência. Tipo numérico.\n",
    "- Month: Mês da ocorrência. Tipo texto.\n",
    "- Incident: Número do incidente. Tipo numérico. \n",
    "- Crime Type: Tipo do crime. Três valores: \"Murder or Manslaughter\" (Assassinato ou homicídio culposo), \"Manslaughter by Negligence\" (homicídio culposo por negligência) e \"null\".\n",
    "- Crime Solved: Crime Solucionado. Tipo texto com valores \"Sim\" e \"Não\".\n",
    "- Victim Sex: Sexo da vítima. Tipo texto com valores \"Homem\" e \"Mulher\".\n",
    "- Victim Age: Idade da vítima. Tipo numérico.\n",
    "- Victim Race: Raça da vítima. Tipo texto com cinco tipo de valores mais o valor \"null\".\n",
    "- Victim Ethnicity: Etnia da vítima. Tipo texto com três valores mais o valor \"null\".\n",
    "- Perpetrator Sex: Sexo do agressor. Tipo texto com três valores mais o valor \"null\".\n",
    "- Perpetrator Age: Idade do agressor. Tipo numérico.\n",
    "- Perpetrator Race: Raça do agressor. Tipo texto com cinco tipo de valores mais o valor \"null\".\n",
    "- Perpetrator Ethnicity: Etnia do agressor. Tipo texto com três valores mais o valor \"null\".\n",
    "- Relationship: Relacionamento. Tipo texto.\n",
    "- Weapon: Arma utilizada. Tipo texto.\n",
    "- Victim Count: Contagem de vítimas. Tipo numérico.\n",
    "- Perpetrator Count: Contagem de agressores. Tipo numérico.\n",
    "- Record Source: Fonte do Registro. Tipo texto.\n",
    "\n",
    "##### Objetivo\n",
    "Criar um modelo de aprendizado de máquina para agrupar..... ????\n",
    "Criar um modelo de aprendizado de máquina para prever ????"
   ]
  },
  {
   "cell_type": "markdown",
   "metadata": {},
   "source": [
    "#### Conhecendo os dados\n",
    "*Seguindo as indicações dadas em aula pela professora e tomando como \"roteiro\" as informações abaixo, seguem as considerações ao trabalhar com a base de dados.*\n",
    "\n",
    "Antes de carregar os dados, é importante saber qual sua origem (banco, arquivo, internet, etc), conhecer sua estrutura, saber qual sua codificação, se possui cabeçalho, qual é seu separador, enfim, observe seu conjunto de dados antes de qualquer coisa.\n",
    "- observe o tamanho do seu arquivo: <b>110 MB, com cerca de 640.000 registros.</b>\n",
    "- observe a codificação: <b>arquivo convertir para UTF-8</b>\n",
    "- observe qual é o separador: <b>\",\"</b>\n",
    "- observe se há cabeçalho: <b>Sim</b>\n",
    "- observe os tipos de variáveis existentes (isso vai exigir uma análise mais profunda posteriomente, mas já podemos ter uma rápida noção do dataset)\n",
    "- os dados estão encapsulados com aspas: <b>Não</b>\n",
    "- Correção de dados com aspas duplas colocadas de forma equivocada. Vide exemplo:\n",
    "\n",
    "\"014026,NJNSP00,\"\"New Jersey State Police, Headquarters\"\",State Police,Mercer,New Jersey,1980,August,1,Murder or Manslaughter,No,Male,31,White,Unknown,Unknown,0,Unknown,Unknown,Unknown,Handgun,1,0,FBI\"\n",
    "\n",
    "Correção da linha 634668 - Valor null para \"Perpetrator Age\". Colocado 0\n",
    "634667,OK07205,Tulsa,Municipal Police,Tulsa,Oklahoma,2014,June,104,Murder or Manslaughter,No,Male,46,Black,Not Hispanic,Unknown, ,Unknown,Unknown,Unknown,Handgun,0,0,FBI"
   ]
  },
  {
   "cell_type": "code",
   "execution_count": 25,
   "metadata": {},
   "outputs": [],
   "source": [
    "import pandas as pd"
   ]
  },
  {
   "cell_type": "code",
   "execution_count": 26,
   "metadata": {},
   "outputs": [
    {
     "data": {
      "text/html": [
       "<div>\n",
       "<style scoped>\n",
       "    .dataframe tbody tr th:only-of-type {\n",
       "        vertical-align: middle;\n",
       "    }\n",
       "\n",
       "    .dataframe tbody tr th {\n",
       "        vertical-align: top;\n",
       "    }\n",
       "\n",
       "    .dataframe thead th {\n",
       "        text-align: right;\n",
       "    }\n",
       "</style>\n",
       "<table border=\"1\" class=\"dataframe\">\n",
       "  <thead>\n",
       "    <tr style=\"text-align: right;\">\n",
       "      <th></th>\n",
       "      <th>Record ID</th>\n",
       "      <th>Agency Code</th>\n",
       "      <th>Agency Name</th>\n",
       "      <th>Agency Type</th>\n",
       "      <th>City</th>\n",
       "      <th>State</th>\n",
       "      <th>Year</th>\n",
       "      <th>Month</th>\n",
       "      <th>Incident</th>\n",
       "      <th>Crime Type</th>\n",
       "      <th>...</th>\n",
       "      <th>Victim Ethnicity</th>\n",
       "      <th>Perpetrator Sex</th>\n",
       "      <th>Perpetrator Age</th>\n",
       "      <th>Perpetrator Race</th>\n",
       "      <th>Perpetrator Ethnicity</th>\n",
       "      <th>Relationship</th>\n",
       "      <th>Weapon</th>\n",
       "      <th>Victim Count</th>\n",
       "      <th>Perpetrator Count</th>\n",
       "      <th>Record Source</th>\n",
       "    </tr>\n",
       "  </thead>\n",
       "  <tbody>\n",
       "    <tr>\n",
       "      <th>0</th>\n",
       "      <td>1</td>\n",
       "      <td>AK00101</td>\n",
       "      <td>Anchorage</td>\n",
       "      <td>Municipal Police</td>\n",
       "      <td>Anchorage</td>\n",
       "      <td>Alaska</td>\n",
       "      <td>1980</td>\n",
       "      <td>January</td>\n",
       "      <td>1</td>\n",
       "      <td>Murder or Manslaughter</td>\n",
       "      <td>...</td>\n",
       "      <td>Unknown</td>\n",
       "      <td>Male</td>\n",
       "      <td>15</td>\n",
       "      <td>Native American/Alaska Native</td>\n",
       "      <td>Unknown</td>\n",
       "      <td>Acquaintance</td>\n",
       "      <td>Blunt Object</td>\n",
       "      <td>0</td>\n",
       "      <td>0</td>\n",
       "      <td>FBI</td>\n",
       "    </tr>\n",
       "    <tr>\n",
       "      <th>1</th>\n",
       "      <td>2</td>\n",
       "      <td>AK00101</td>\n",
       "      <td>Anchorage</td>\n",
       "      <td>Municipal Police</td>\n",
       "      <td>Anchorage</td>\n",
       "      <td>Alaska</td>\n",
       "      <td>1980</td>\n",
       "      <td>March</td>\n",
       "      <td>1</td>\n",
       "      <td>Murder or Manslaughter</td>\n",
       "      <td>...</td>\n",
       "      <td>Unknown</td>\n",
       "      <td>Male</td>\n",
       "      <td>42</td>\n",
       "      <td>White</td>\n",
       "      <td>Unknown</td>\n",
       "      <td>Acquaintance</td>\n",
       "      <td>Strangulation</td>\n",
       "      <td>0</td>\n",
       "      <td>0</td>\n",
       "      <td>FBI</td>\n",
       "    </tr>\n",
       "    <tr>\n",
       "      <th>2</th>\n",
       "      <td>3</td>\n",
       "      <td>AK00101</td>\n",
       "      <td>Anchorage</td>\n",
       "      <td>Municipal Police</td>\n",
       "      <td>Anchorage</td>\n",
       "      <td>Alaska</td>\n",
       "      <td>1980</td>\n",
       "      <td>March</td>\n",
       "      <td>2</td>\n",
       "      <td>Murder or Manslaughter</td>\n",
       "      <td>...</td>\n",
       "      <td>Unknown</td>\n",
       "      <td>Unknown</td>\n",
       "      <td>0</td>\n",
       "      <td>Unknown</td>\n",
       "      <td>Unknown</td>\n",
       "      <td>Unknown</td>\n",
       "      <td>Unknown</td>\n",
       "      <td>0</td>\n",
       "      <td>0</td>\n",
       "      <td>FBI</td>\n",
       "    </tr>\n",
       "    <tr>\n",
       "      <th>3</th>\n",
       "      <td>4</td>\n",
       "      <td>AK00101</td>\n",
       "      <td>Anchorage</td>\n",
       "      <td>Municipal Police</td>\n",
       "      <td>Anchorage</td>\n",
       "      <td>Alaska</td>\n",
       "      <td>1980</td>\n",
       "      <td>April</td>\n",
       "      <td>1</td>\n",
       "      <td>Murder or Manslaughter</td>\n",
       "      <td>...</td>\n",
       "      <td>Unknown</td>\n",
       "      <td>Male</td>\n",
       "      <td>42</td>\n",
       "      <td>White</td>\n",
       "      <td>Unknown</td>\n",
       "      <td>Acquaintance</td>\n",
       "      <td>Strangulation</td>\n",
       "      <td>0</td>\n",
       "      <td>0</td>\n",
       "      <td>FBI</td>\n",
       "    </tr>\n",
       "    <tr>\n",
       "      <th>4</th>\n",
       "      <td>5</td>\n",
       "      <td>AK00101</td>\n",
       "      <td>Anchorage</td>\n",
       "      <td>Municipal Police</td>\n",
       "      <td>Anchorage</td>\n",
       "      <td>Alaska</td>\n",
       "      <td>1980</td>\n",
       "      <td>April</td>\n",
       "      <td>2</td>\n",
       "      <td>Murder or Manslaughter</td>\n",
       "      <td>...</td>\n",
       "      <td>Unknown</td>\n",
       "      <td>Unknown</td>\n",
       "      <td>0</td>\n",
       "      <td>Unknown</td>\n",
       "      <td>Unknown</td>\n",
       "      <td>Unknown</td>\n",
       "      <td>Unknown</td>\n",
       "      <td>0</td>\n",
       "      <td>1</td>\n",
       "      <td>FBI</td>\n",
       "    </tr>\n",
       "  </tbody>\n",
       "</table>\n",
       "<p>5 rows × 24 columns</p>\n",
       "</div>"
      ],
      "text/plain": [
       "   Record ID Agency Code Agency Name       Agency Type       City   State  \\\n",
       "0          1     AK00101   Anchorage  Municipal Police  Anchorage  Alaska   \n",
       "1          2     AK00101   Anchorage  Municipal Police  Anchorage  Alaska   \n",
       "2          3     AK00101   Anchorage  Municipal Police  Anchorage  Alaska   \n",
       "3          4     AK00101   Anchorage  Municipal Police  Anchorage  Alaska   \n",
       "4          5     AK00101   Anchorage  Municipal Police  Anchorage  Alaska   \n",
       "\n",
       "   Year    Month  Incident              Crime Type      ...       \\\n",
       "0  1980  January         1  Murder or Manslaughter      ...        \n",
       "1  1980    March         1  Murder or Manslaughter      ...        \n",
       "2  1980    March         2  Murder or Manslaughter      ...        \n",
       "3  1980    April         1  Murder or Manslaughter      ...        \n",
       "4  1980    April         2  Murder or Manslaughter      ...        \n",
       "\n",
       "  Victim Ethnicity Perpetrator Sex  Perpetrator Age  \\\n",
       "0          Unknown            Male               15   \n",
       "1          Unknown            Male               42   \n",
       "2          Unknown         Unknown                0   \n",
       "3          Unknown            Male               42   \n",
       "4          Unknown         Unknown                0   \n",
       "\n",
       "                Perpetrator Race Perpetrator Ethnicity  Relationship  \\\n",
       "0  Native American/Alaska Native               Unknown  Acquaintance   \n",
       "1                          White               Unknown  Acquaintance   \n",
       "2                        Unknown               Unknown       Unknown   \n",
       "3                          White               Unknown  Acquaintance   \n",
       "4                        Unknown               Unknown       Unknown   \n",
       "\n",
       "          Weapon Victim Count Perpetrator Count Record Source  \n",
       "0   Blunt Object            0                 0           FBI  \n",
       "1  Strangulation            0                 0           FBI  \n",
       "2        Unknown            0                 0           FBI  \n",
       "3  Strangulation            0                 0           FBI  \n",
       "4        Unknown            0                 1           FBI  \n",
       "\n",
       "[5 rows x 24 columns]"
      ]
     },
     "execution_count": 26,
     "metadata": {},
     "output_type": "execute_result"
    }
   ],
   "source": [
    "arquivos = [\"database1.csv\", \"database2.csv\"]\n",
    "df = pd.concat(pd.read_csv(f, low_memory=False) for f in arquivos);\n",
    "df.head(5)"
   ]
  },
  {
   "cell_type": "markdown",
   "metadata": {},
   "source": [
    "#### Análise exploratória dos dados - estatística descritiva"
   ]
  },
  {
   "cell_type": "code",
   "execution_count": 4,
   "metadata": {},
   "outputs": [
    {
     "data": {
      "text/plain": [
       "(638454, 24)"
      ]
     },
     "execution_count": 4,
     "metadata": {},
     "output_type": "execute_result"
    }
   ],
   "source": [
    "#Formato da base\n",
    "df.shape"
   ]
  },
  {
   "cell_type": "code",
   "execution_count": 5,
   "metadata": {},
   "outputs": [
    {
     "data": {
      "text/plain": [
       "Record ID                 int64\n",
       "Agency Code              object\n",
       "Agency Name              object\n",
       "Agency Type              object\n",
       "City                     object\n",
       "State                    object\n",
       "Year                      int64\n",
       "Month                    object\n",
       "Incident                  int64\n",
       "Crime Type               object\n",
       "Crime Solved             object\n",
       "Victim Sex               object\n",
       "Victim Age                int64\n",
       "Victim Race              object\n",
       "Victim Ethnicity         object\n",
       "Perpetrator Sex          object\n",
       "Perpetrator Age          object\n",
       "Perpetrator Race         object\n",
       "Perpetrator Ethnicity    object\n",
       "Relationship             object\n",
       "Weapon                   object\n",
       "Victim Count              int64\n",
       "Perpetrator Count         int64\n",
       "Record Source            object\n",
       "dtype: object"
      ]
     },
     "execution_count": 5,
     "metadata": {},
     "output_type": "execute_result"
    }
   ],
   "source": [
    "#Tipos dos dados\n",
    "df.dtypes"
   ]
  },
  {
   "cell_type": "code",
   "execution_count": 9,
   "metadata": {},
   "outputs": [
    {
     "data": {
      "text/html": [
       "<div>\n",
       "<style scoped>\n",
       "    .dataframe tbody tr th:only-of-type {\n",
       "        vertical-align: middle;\n",
       "    }\n",
       "\n",
       "    .dataframe tbody tr th {\n",
       "        vertical-align: top;\n",
       "    }\n",
       "\n",
       "    .dataframe thead th {\n",
       "        text-align: right;\n",
       "    }\n",
       "</style>\n",
       "<table border=\"1\" class=\"dataframe\">\n",
       "  <thead>\n",
       "    <tr style=\"text-align: right;\">\n",
       "      <th></th>\n",
       "      <th>Year</th>\n",
       "      <th>Incident</th>\n",
       "      <th>Victim Age</th>\n",
       "      <th>Victim Count</th>\n",
       "      <th>Perpetrator Count</th>\n",
       "    </tr>\n",
       "  </thead>\n",
       "  <tbody>\n",
       "    <tr>\n",
       "      <th>count</th>\n",
       "      <td>638454.000000</td>\n",
       "      <td>638454.000000</td>\n",
       "      <td>638454.000000</td>\n",
       "      <td>638454.000000</td>\n",
       "      <td>638454.000000</td>\n",
       "    </tr>\n",
       "    <tr>\n",
       "      <th>mean</th>\n",
       "      <td>1995.801102</td>\n",
       "      <td>22.967924</td>\n",
       "      <td>35.033512</td>\n",
       "      <td>0.123334</td>\n",
       "      <td>0.185224</td>\n",
       "    </tr>\n",
       "    <tr>\n",
       "      <th>std</th>\n",
       "      <td>9.927693</td>\n",
       "      <td>92.149821</td>\n",
       "      <td>41.628306</td>\n",
       "      <td>0.537733</td>\n",
       "      <td>0.585496</td>\n",
       "    </tr>\n",
       "    <tr>\n",
       "      <th>min</th>\n",
       "      <td>1980.000000</td>\n",
       "      <td>0.000000</td>\n",
       "      <td>0.000000</td>\n",
       "      <td>0.000000</td>\n",
       "      <td>0.000000</td>\n",
       "    </tr>\n",
       "    <tr>\n",
       "      <th>25%</th>\n",
       "      <td>1987.000000</td>\n",
       "      <td>1.000000</td>\n",
       "      <td>22.000000</td>\n",
       "      <td>0.000000</td>\n",
       "      <td>0.000000</td>\n",
       "    </tr>\n",
       "    <tr>\n",
       "      <th>50%</th>\n",
       "      <td>1995.000000</td>\n",
       "      <td>2.000000</td>\n",
       "      <td>30.000000</td>\n",
       "      <td>0.000000</td>\n",
       "      <td>0.000000</td>\n",
       "    </tr>\n",
       "    <tr>\n",
       "      <th>75%</th>\n",
       "      <td>2004.000000</td>\n",
       "      <td>10.000000</td>\n",
       "      <td>42.000000</td>\n",
       "      <td>0.000000</td>\n",
       "      <td>0.000000</td>\n",
       "    </tr>\n",
       "    <tr>\n",
       "      <th>max</th>\n",
       "      <td>2014.000000</td>\n",
       "      <td>999.000000</td>\n",
       "      <td>998.000000</td>\n",
       "      <td>10.000000</td>\n",
       "      <td>10.000000</td>\n",
       "    </tr>\n",
       "  </tbody>\n",
       "</table>\n",
       "</div>"
      ],
      "text/plain": [
       "                Year       Incident     Victim Age   Victim Count  \\\n",
       "count  638454.000000  638454.000000  638454.000000  638454.000000   \n",
       "mean     1995.801102      22.967924      35.033512       0.123334   \n",
       "std         9.927693      92.149821      41.628306       0.537733   \n",
       "min      1980.000000       0.000000       0.000000       0.000000   \n",
       "25%      1987.000000       1.000000      22.000000       0.000000   \n",
       "50%      1995.000000       2.000000      30.000000       0.000000   \n",
       "75%      2004.000000      10.000000      42.000000       0.000000   \n",
       "max      2014.000000     999.000000     998.000000      10.000000   \n",
       "\n",
       "       Perpetrator Count  \n",
       "count      638454.000000  \n",
       "mean            0.185224  \n",
       "std             0.585496  \n",
       "min             0.000000  \n",
       "25%             0.000000  \n",
       "50%             0.000000  \n",
       "75%             0.000000  \n",
       "max            10.000000  "
      ]
     },
     "execution_count": 9,
     "metadata": {},
     "output_type": "execute_result"
    }
   ],
   "source": [
    "df.describe()"
   ]
  },
  {
   "cell_type": "code",
   "execution_count": 7,
   "metadata": {},
   "outputs": [
    {
     "data": {
      "text/html": [
       "<div>\n",
       "<style scoped>\n",
       "    .dataframe tbody tr th:only-of-type {\n",
       "        vertical-align: middle;\n",
       "    }\n",
       "\n",
       "    .dataframe tbody tr th {\n",
       "        vertical-align: top;\n",
       "    }\n",
       "\n",
       "    .dataframe thead th {\n",
       "        text-align: right;\n",
       "    }\n",
       "</style>\n",
       "<table border=\"1\" class=\"dataframe\">\n",
       "  <thead>\n",
       "    <tr style=\"text-align: right;\">\n",
       "      <th></th>\n",
       "      <th>Record ID</th>\n",
       "      <th>Year</th>\n",
       "      <th>Incident</th>\n",
       "      <th>Victim Age</th>\n",
       "      <th>Victim Count</th>\n",
       "      <th>Perpetrator Count</th>\n",
       "    </tr>\n",
       "  </thead>\n",
       "  <tbody>\n",
       "    <tr>\n",
       "      <th>Record ID</th>\n",
       "      <td>1.000000</td>\n",
       "      <td>0.997286</td>\n",
       "      <td>0.116943</td>\n",
       "      <td>0.004774</td>\n",
       "      <td>0.026973</td>\n",
       "      <td>0.056755</td>\n",
       "    </tr>\n",
       "    <tr>\n",
       "      <th>Year</th>\n",
       "      <td>0.997286</td>\n",
       "      <td>1.000000</td>\n",
       "      <td>0.124125</td>\n",
       "      <td>0.005514</td>\n",
       "      <td>0.026765</td>\n",
       "      <td>0.055959</td>\n",
       "    </tr>\n",
       "    <tr>\n",
       "      <th>Incident</th>\n",
       "      <td>0.116943</td>\n",
       "      <td>0.124125</td>\n",
       "      <td>1.000000</td>\n",
       "      <td>-0.006918</td>\n",
       "      <td>0.001781</td>\n",
       "      <td>0.001951</td>\n",
       "    </tr>\n",
       "    <tr>\n",
       "      <th>Victim Age</th>\n",
       "      <td>0.004774</td>\n",
       "      <td>0.005514</td>\n",
       "      <td>-0.006918</td>\n",
       "      <td>1.000000</td>\n",
       "      <td>-0.008047</td>\n",
       "      <td>-0.017289</td>\n",
       "    </tr>\n",
       "    <tr>\n",
       "      <th>Victim Count</th>\n",
       "      <td>0.026973</td>\n",
       "      <td>0.026765</td>\n",
       "      <td>0.001781</td>\n",
       "      <td>-0.008047</td>\n",
       "      <td>1.000000</td>\n",
       "      <td>0.067284</td>\n",
       "    </tr>\n",
       "    <tr>\n",
       "      <th>Perpetrator Count</th>\n",
       "      <td>0.056755</td>\n",
       "      <td>0.055959</td>\n",
       "      <td>0.001951</td>\n",
       "      <td>-0.017289</td>\n",
       "      <td>0.067284</td>\n",
       "      <td>1.000000</td>\n",
       "    </tr>\n",
       "  </tbody>\n",
       "</table>\n",
       "</div>"
      ],
      "text/plain": [
       "                   Record ID      Year  Incident  Victim Age  Victim Count  \\\n",
       "Record ID           1.000000  0.997286  0.116943    0.004774      0.026973   \n",
       "Year                0.997286  1.000000  0.124125    0.005514      0.026765   \n",
       "Incident            0.116943  0.124125  1.000000   -0.006918      0.001781   \n",
       "Victim Age          0.004774  0.005514 -0.006918    1.000000     -0.008047   \n",
       "Victim Count        0.026973  0.026765  0.001781   -0.008047      1.000000   \n",
       "Perpetrator Count   0.056755  0.055959  0.001951   -0.017289      0.067284   \n",
       "\n",
       "                   Perpetrator Count  \n",
       "Record ID                   0.056755  \n",
       "Year                        0.055959  \n",
       "Incident                    0.001951  \n",
       "Victim Age                 -0.017289  \n",
       "Victim Count                0.067284  \n",
       "Perpetrator Count           1.000000  "
      ]
     },
     "execution_count": 7,
     "metadata": {},
     "output_type": "execute_result"
    }
   ],
   "source": [
    "df.corr()"
   ]
  },
  {
   "cell_type": "code",
   "execution_count": 8,
   "metadata": {},
   "outputs": [
    {
     "data": {
      "text/plain": [
       "Record ID            5.082719e-16\n",
       "Year                 1.580511e-01\n",
       "Incident             7.361694e+00\n",
       "Victim Age           1.895934e+01\n",
       "Victim Count         8.149552e+00\n",
       "Perpetrator Count    4.654220e+00\n",
       "dtype: float64"
      ]
     },
     "execution_count": 8,
     "metadata": {},
     "output_type": "execute_result"
    }
   ],
   "source": [
    "#saber se a distribuição é normal ou não:\n",
    "# zero é simétrica\n",
    "# positivo indica uma assimetria positiva \n",
    "# negativo indica uma assimetria negativa\n",
    "df.skew()"
   ]
  },
  {
   "cell_type": "code",
   "execution_count": 9,
   "metadata": {},
   "outputs": [],
   "source": [
    "import matplotlib as plt\n",
    "%matplotlib inline"
   ]
  },
  {
   "cell_type": "code",
   "execution_count": 10,
   "metadata": {},
   "outputs": [
    {
     "data": {
      "text/plain": [
       "array([[<matplotlib.axes._subplots.AxesSubplot object at 0x000001CD18C1EB00>,\n",
       "        <matplotlib.axes._subplots.AxesSubplot object at 0x000001CD18C7A0B8>],\n",
       "       [<matplotlib.axes._subplots.AxesSubplot object at 0x000001CD18CA3748>,\n",
       "        <matplotlib.axes._subplots.AxesSubplot object at 0x000001CD18CCADD8>],\n",
       "       [<matplotlib.axes._subplots.AxesSubplot object at 0x000001CD18CFA4A8>,\n",
       "        <matplotlib.axes._subplots.AxesSubplot object at 0x000001CD18CFA4E0>]],\n",
       "      dtype=object)"
      ]
     },
     "execution_count": 10,
     "metadata": {},
     "output_type": "execute_result"
    },
    {
     "data": {
      "image/png": "[encoded data removed]",
      "text/plain": [
       "<Figure size 432x288 with 6 Axes>"
      ]
     },
     "metadata": {},
     "output_type": "display_data"
    }
   ],
   "source": [
    "df.hist()"
   ]
  },
  {
   "cell_type": "code",
   "execution_count": 11,
   "metadata": {},
   "outputs": [
    {
     "data": {
      "text/plain": [
       "array([[<matplotlib.axes._subplots.AxesSubplot object at 0x000001CD18DB7A90>,\n",
       "        <matplotlib.axes._subplots.AxesSubplot object at 0x000001CD18E18400>,\n",
       "        <matplotlib.axes._subplots.AxesSubplot object at 0x000001CD18E3E978>],\n",
       "       [<matplotlib.axes._subplots.AxesSubplot object at 0x000001CD18E68EF0>,\n",
       "        <matplotlib.axes._subplots.AxesSubplot object at 0x000001CD18E9A4A8>,\n",
       "        <matplotlib.axes._subplots.AxesSubplot object at 0x000001CD18E9A4E0>],\n",
       "       [<matplotlib.axes._subplots.AxesSubplot object at 0x000001CD18EECF98>,\n",
       "        <matplotlib.axes._subplots.AxesSubplot object at 0x000001CD18F1D668>,\n",
       "        <matplotlib.axes._subplots.AxesSubplot object at 0x000001CD18F44CF8>]],\n",
       "      dtype=object)"
      ]
     },
     "execution_count": 11,
     "metadata": {},
     "output_type": "execute_result"
    },
    {
     "data": {
      "image/png": "[encoded data removed]",
      "text/plain": [
       "<Figure size 432x288 with 9 Axes>"
      ]
     },
     "metadata": {},
     "output_type": "display_data"
    }
   ],
   "source": [
    "df.plot(kind = \"density\",subplots = True,layout = (3,3))"
   ]
  },
  {
   "cell_type": "code",
   "execution_count": 13,
   "metadata": {},
   "outputs": [
    {
     "data": {
      "image/png": "[encoded data removed]",
      "text/plain": [
       "<Figure size 864x720 with 1 Axes>"
      ]
     },
     "metadata": {},
     "output_type": "display_data"
    }
   ],
   "source": [
    "#Homicidios por ano\n",
    "anos = pd.DataFrame(df, columns = ['Year']) \n",
    "cont_anos = anos.stack().value_counts()\n",
    "mortes = cont_anos.sort_index(axis=0, ascending=False)\n",
    "\n",
    "mortes.plot(kind='barh', fontsize=10,  width=0.5,  figsize=(12, 10), title='Homicídios entre 1980 e 2014');"
   ]
  },
  {
   "cell_type": "code",
   "execution_count": 27,
   "metadata": {},
   "outputs": [
    {
     "data": {
      "text/plain": [
       "Text(0,0.5,'')"
      ]
     },
     "execution_count": 27,
     "metadata": {},
     "output_type": "execute_result"
    },
    {
     "data": {
      "image/png": "[encoded data removed]",
      "text/plain": [
       "<Figure size 432x288 with 1 Axes>"
      ]
     },
     "metadata": {},
     "output_type": "display_data"
    }
   ],
   "source": [
    "# Percentual de crimes solucionados\n",
    "solucionados = pd.DataFrame(df, columns = ['Crime Solved']) \n",
    "resultado = solucionados.stack().value_counts()\n",
    "ax = resultado.plot(kind = 'pie',\n",
    "                              title = 'Crimes solucionados entre 1980 e 2014 (percentual)',\n",
    "                              startangle = 10,\n",
    "                              autopct='%.2f')\n",
    "ax.set_ylabel('')"
   ]
  },
  {
   "cell_type": "markdown",
   "metadata": {},
   "source": [
    "#### Regressão Logística:"
   ]
  },
  {
   "cell_type": "code",
   "execution_count": 28,
   "metadata": {},
   "outputs": [],
   "source": [
    "#primeiro teste com modelo"
   ]
  },
  {
   "cell_type": "code",
   "execution_count": 15,
   "metadata": {},
   "outputs": [],
   "source": [
    "#import seaborn as sns"
   ]
  },
  {
   "cell_type": "code",
   "execution_count": 17,
   "metadata": {},
   "outputs": [],
   "source": [
    "#sns.pairplot(df)"
   ]
  }
 ],
 "metadata": {
  "kernelspec": {
   "display_name": "Python 3",
   "language": "python",
   "name": "python3"
  },
  "language_info": {
   "codemirror_mode": {
    "name": "ipython",
    "version": 3
   },
   "file_extension": ".py",
   "mimetype": "text/x-python",
   "name": "python",
   "nbconvert_exporter": "python",
   "pygments_lexer": "ipython3",
   "version": "3.6.5"
  }
 },
 "nbformat": 4,
 "nbformat_minor": 2
}
